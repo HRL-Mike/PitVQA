{
  "nbformat": 4,
  "nbformat_minor": 0,
  "metadata": {
    "colab": {
      "provenance": [],
      "gpuType": "T4",
      "authorship_tag": "ABX9TyOOtP6ctg+nCG+/T1E4X9hc",
      "include_colab_link": true
    },
    "kernelspec": {
      "name": "python3",
      "display_name": "Python 3"
    },
    "language_info": {
      "name": "python"
    },
    "accelerator": "GPU"
  },
  "cells": [
    {
      "cell_type": "markdown",
      "metadata": {
        "id": "view-in-github",
        "colab_type": "text"
      },
      "source": [
        "<a href=\"https://colab.research.google.com/github/mobarakol/PitVQA/blob/main/PitVQANet_endo18_demo.ipynb\" target=\"_parent\"><img src=\"https://colab.research.google.com/assets/colab-badge.svg\" alt=\"Open In Colab\"/></a>"
      ]
    },
    {
      "cell_type": "code",
      "execution_count": 1,
      "metadata": {
        "colab": {
          "base_uri": "https://localhost:8080/"
        },
        "id": "T1MfKHavwNy7",
        "outputId": "9e0bc7b2-eb18-47e0-c87e-efab9fbb53d1"
      },
      "outputs": [
        {
          "output_type": "stream",
          "name": "stdout",
          "text": [
            "Cloning into 'PitVQA'...\n",
            "remote: Enumerating objects: 231, done.\u001b[K\n",
            "remote: Counting objects: 100% (231/231), done.\u001b[K\n",
            "remote: Compressing objects: 100% (180/180), done.\u001b[K\n",
            "remote: Total 231 (delta 106), reused 130 (delta 45), pack-reused 0\u001b[K\n",
            "Receiving objects: 100% (231/231), 8.87 MiB | 23.96 MiB/s, done.\n",
            "Resolving deltas: 100% (106/106), done.\n",
            "/content/PitVQA/datasets\n",
            "/usr/local/lib/python3.10/dist-packages/gdown/__main__.py:132: FutureWarning: Option `--id` was deprecated in version 4.3.1 and will be removed in 5.0. You don't need to pass it anymore to use a file ID.\n",
            "  warnings.warn(\n",
            "Downloading...\n",
            "From (original): https://drive.google.com/uc?id=1FoAEY_u0PTAlrscjEifi2om15A83wL78\n",
            "From (redirected): https://drive.google.com/uc?id=1FoAEY_u0PTAlrscjEifi2om15A83wL78&confirm=t&uuid=fd10a829-6f0d-436e-b5ee-caae5238f325\n",
            "To: /content/PitVQA/datasets/EndoVis-18-VQA.zip\n",
            "100% 2.71G/2.71G [00:18<00:00, 149MB/s]\n",
            "/content/PitVQA\n"
          ]
        }
      ],
      "source": [
        "#Download code\n",
        "!git clone https://github.com/mobarakol/PitVQA.git\n",
        "\n",
        "#Download Dataset\n",
        "!mkdir /content/PitVQA/datasets\n",
        "%cd /content/PitVQA/datasets\n",
        "!gdown --id 1FoAEY_u0PTAlrscjEifi2om15A83wL78\n",
        "\n",
        "# Unzipping the VQA EndoVis18 Dataset\n",
        "!unzip -q EndoVis-18-VQA.zip\n",
        "%cd /content/PitVQA"
      ]
    },
    {
      "cell_type": "code",
      "source": [
        "# download weights\n",
        "!gdown --id 12XvyppNYBGRsSwxUn2ZGXa5oJXnk4KaV\n",
        "# https://drive.google.com/file/d/12XvyppNYBGRsSwxUn2ZGXa5oJXnk4KaV/view?usp=drive_link"
      ],
      "metadata": {
        "colab": {
          "base_uri": "https://localhost:8080/"
        },
        "id": "0EqufGKvGdjx",
        "outputId": "84b4e3e7-5383-42cd-c960-11d26f268a2e"
      },
      "execution_count": 2,
      "outputs": [
        {
          "output_type": "stream",
          "name": "stdout",
          "text": [
            "/usr/local/lib/python3.10/dist-packages/gdown/__main__.py:132: FutureWarning: Option `--id` was deprecated in version 4.3.1 and will be removed in 5.0. You don't need to pass it anymore to use a file ID.\n",
            "  warnings.warn(\n",
            "Downloading...\n",
            "From (original): https://drive.google.com/uc?id=12XvyppNYBGRsSwxUn2ZGXa5oJXnk4KaV\n",
            "From (redirected): https://drive.google.com/uc?id=12XvyppNYBGRsSwxUn2ZGXa5oJXnk4KaV&confirm=t&uuid=f0860b10-3716-4507-aab6-b4a9c60ac373\n",
            "To: /content/PitVQA/PitVQA_endo18_weights.pth.tar\n",
            "100% 4.07G/4.07G [00:52<00:00, 77.7MB/s]\n"
          ]
        }
      ]
    },
    {
      "cell_type": "code",
      "source": [
        "!pip install -q transformers==4.36.2\n",
        "!pip install -q timm==0.9.12\n",
        "!pip install -q fairscale==0.4.13\n",
        "!pip install -q scikit-learn==1.3.2"
      ],
      "metadata": {
        "colab": {
          "base_uri": "https://localhost:8080/"
        },
        "id": "vdFGMMog0ALF",
        "outputId": "662ac7ec-362f-42a7-9720-f013625e5fc6"
      },
      "execution_count": 3,
      "outputs": [
        {
          "output_type": "stream",
          "name": "stdout",
          "text": [
            "\u001b[2K     \u001b[90m━━━━━━━━━━━━━━━━━━━━━━━━━━━━━━━━━━━━━━━━\u001b[0m \u001b[32m8.2/8.2 MB\u001b[0m \u001b[31m16.1 MB/s\u001b[0m eta \u001b[36m0:00:00\u001b[0m\n",
            "\u001b[2K     \u001b[90m━━━━━━━━━━━━━━━━━━━━━━━━━━━━━━━━━━━━━━━━\u001b[0m \u001b[32m3.6/3.6 MB\u001b[0m \u001b[31m77.3 MB/s\u001b[0m eta \u001b[36m0:00:00\u001b[0m\n",
            "\u001b[2K     \u001b[90m━━━━━━━━━━━━━━━━━━━━━━━━━━━━━━━━━━━━━━━━\u001b[0m \u001b[32m2.2/2.2 MB\u001b[0m \u001b[31m8.9 MB/s\u001b[0m eta \u001b[36m0:00:00\u001b[0m\n",
            "\u001b[2K     \u001b[90m━━━━━━━━━━━━━━━━━━━━━━━━━━━━━━━━━━━━━━━━\u001b[0m \u001b[32m21.3/21.3 MB\u001b[0m \u001b[31m53.3 MB/s\u001b[0m eta \u001b[36m0:00:00\u001b[0m\n",
            "\u001b[2K     \u001b[90m━━━━━━━━━━━━━━━━━━━━━━━━━━━━━━━━━━━━━━━━\u001b[0m \u001b[32m266.3/266.3 kB\u001b[0m \u001b[31m2.3 MB/s\u001b[0m eta \u001b[36m0:00:00\u001b[0m\n",
            "\u001b[?25h  Installing build dependencies ... \u001b[?25l\u001b[?25hdone\n",
            "  Getting requirements to build wheel ... \u001b[?25l\u001b[?25hdone\n",
            "  Installing backend dependencies ... \u001b[?25l\u001b[?25hdone\n",
            "  Preparing metadata (pyproject.toml) ... \u001b[?25l\u001b[?25hdone\n",
            "  Building wheel for fairscale (pyproject.toml) ... \u001b[?25l\u001b[?25hdone\n",
            "\u001b[2K     \u001b[90m━━━━━━━━━━━━━━━━━━━━━━━━━━━━━━━━━━━━━━━━\u001b[0m \u001b[32m10.8/10.8 MB\u001b[0m \u001b[31m44.3 MB/s\u001b[0m eta \u001b[36m0:00:00\u001b[0m\n",
            "\u001b[?25h"
          ]
        }
      ]
    },
    {
      "cell_type": "code",
      "source": [
        "import torch\n",
        "from dataloader import EndoVis18VQAGPTClassification\n",
        "from utils import calc_acc, calc_precision_recall_fscore, calc_classwise_acc\n",
        "\n",
        "from torch.utils.data import DataLoader\n",
        "import torch.nn.functional as F\n",
        "from torch import nn\n",
        "from tqdm import tqdm\n",
        "\n",
        "import os\n",
        "import sys\n",
        "import random\n",
        "import numpy as np\n",
        "\n",
        "\n",
        "def seed_everything(seed=3407):\n",
        "    torch.manual_seed(seed)\n",
        "    torch.cuda.manual_seed_all(seed)\n",
        "    os.environ['PYTHONHASHSEED'] = str(seed)\n",
        "    torch.backends.cudnn.deterministic = True\n",
        "    torch.backends.cudnn.benchmark = False\n",
        "    np.random.seed(seed)\n",
        "    random.seed(seed)\n",
        "\n",
        "\n",
        "def validate(val_loader, model, criterion, device):\n",
        "    model.eval()\n",
        "    total_loss = 0.0\n",
        "    label_true = None\n",
        "    label_pred = None\n",
        "    label_score = None\n",
        "\n",
        "    with torch.no_grad():\n",
        "        for i, (file_name, images, questions, labels) in enumerate(tqdm(val_loader),0):\n",
        "            # label\n",
        "            labels = labels.to(device)\n",
        "\n",
        "            # model forward pass\n",
        "            outputs = model(image=images.to(device), question=questions)\n",
        "\n",
        "            # loss\n",
        "            loss = criterion(outputs, labels)\n",
        "            total_loss += loss.item()\n",
        "\n",
        "            scores, predicted = torch.max(F.softmax(outputs, dim=1).data, 1)\n",
        "            label_true = labels.data.cpu() if label_true is None else torch.cat((label_true, labels.data.cpu()), 0)\n",
        "            label_pred = predicted.data.cpu() if label_pred is None else torch.cat((label_pred, predicted.data.cpu()), 0)\n",
        "            label_score = scores.data.cpu() if label_score is None else torch.cat((label_score, scores.data.cpu()), 0)\n",
        "\n",
        "    acc = calc_acc(label_true, label_pred)\n",
        "    precision, recall, f_score = calc_precision_recall_fscore(label_true, label_pred)\n",
        "    print(f'\\ntest acc: {acc} | test precision: {precision} | test recall: {recall} | test F1: {f_score}')\n",
        "    return acc, precision, recall, f_score"
      ],
      "metadata": {
        "id": "WiINWB-Ax_iw",
        "colab": {
          "base_uri": "https://localhost:8080/"
        },
        "outputId": "0f8a4f41-0c80-40fe-8f68-31de469c608c"
      },
      "execution_count": 4,
      "outputs": [
        {
          "output_type": "stream",
          "name": "stderr",
          "text": [
            "/usr/local/lib/python3.10/dist-packages/transformers/utils/generic.py:441: UserWarning: torch.utils._pytree._register_pytree_node is deprecated. Please use torch.utils._pytree.register_pytree_node instead.\n",
            "  _torch_pytree._register_pytree_node(\n"
          ]
        }
      ]
    },
    {
      "cell_type": "markdown",
      "source": [
        "### Please rename the model.py file to PitVQANet.py"
      ],
      "metadata": {
        "id": "ZsvCHdVcuYuG"
      }
    },
    {
      "cell_type": "code",
      "source": [
        "device = torch.device(\"cuda\" if torch.cuda.is_available() else \"cpu\")\n",
        "batch_size = 16\n",
        "seed_everything(3407)\n",
        "\n",
        "# preapre model\n",
        "model_path = 'PitVQA_endo18_weights.pth.tar'\n",
        "checkpoint = torch.load(model_path, map_location='cpu')\n",
        "model = checkpoint['model']\n",
        "model.to(device)\n",
        "criterion = nn.CrossEntropyLoss().to(device)\n",
        "\n",
        "# prepare validation set\n",
        "val_seq = [1, 5, 16]\n",
        "folder_head = '/content/PitVQA/datasets/EndoVis-18-VQA/seq_'\n",
        "folder_tail = '/vqa/Classification/*.txt'\n",
        "val_dataset = EndoVis18VQAGPTClassification(val_seq, folder_head, folder_tail)\n",
        "val_dataloader = DataLoader(dataset=val_dataset, batch_size=batch_size, shuffle=False, num_workers=8)\n",
        "\n",
        "test_acc, test_precision, test_recall, test_f_score = validate(val_loader=val_dataloader, model=model,\n",
        "                                  criterion=criterion, device=device)"
      ],
      "metadata": {
        "colab": {
          "base_uri": "https://localhost:8080/"
        },
        "id": "NgONMuR2ymkP",
        "outputId": "78565a99-a995-4f91-de90-6b295a6800ca"
      },
      "execution_count": 5,
      "outputs": [
        {
          "output_type": "stream",
          "name": "stderr",
          "text": [
            "/usr/local/lib/python3.10/dist-packages/transformers/utils/generic.py:309: UserWarning: torch.utils._pytree._register_pytree_node is deprecated. Please use torch.utils._pytree.register_pytree_node instead.\n",
            "  _torch_pytree._register_pytree_node(\n"
          ]
        },
        {
          "output_type": "stream",
          "name": "stdout",
          "text": [
            "Total files: 447 | Total question: 2769\n"
          ]
        },
        {
          "output_type": "stream",
          "name": "stderr",
          "text": [
            "100%|██████████| 174/174 [02:11<00:00,  1.32it/s]"
          ]
        },
        {
          "output_type": "stream",
          "name": "stdout",
          "text": [
            "\n",
            "test acc: 0.6832791621524016 | test precision: 0.5417785409849711 | test recall: 0.48000010272744686 | test F1: 0.6210418143069747\n"
          ]
        },
        {
          "output_type": "stream",
          "name": "stderr",
          "text": [
            "\n"
          ]
        }
      ]
    }
  ]
}